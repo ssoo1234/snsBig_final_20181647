{
 "cells": [
  {
   "cell_type": "code",
   "execution_count": 14,
   "metadata": {},
   "outputs": [],
   "source": [
    "from bs4 import BeautifulSoup     \n",
    "from selenium import webdriver\n",
    "from selenium.webdriver.common.keys import Keys\n",
    "from selenium.webdriver.common.by import By\n",
    "import time\n",
    "import sys\n",
    "import pandas as pd\n",
    "import math"
   ]
  },
  {
   "cell_type": "code",
   "execution_count": 15,
   "metadata": {},
   "outputs": [],
   "source": [
    "query_txt=input('크롤링할 키워드는 무엇입니까?: ')\n",
    "includeQuery=input('결과에서 반드시 포함하는 단어를 입력하세요: ')\n",
    "decludeQuery=input('결과에서 제외할 단어를 입력하세요: ')\n",
    "startTime=input('조회 시작일자 입력(예:2019-01-01): ')\n",
    "endTime=input('조회 종료일자 입력(예:2019-03-31): ')\n",
    "count=int(input('크롤링할 건수는 몇건입니까?: '))\n",
    "f_name = input('파일로 저장할 폴더 이름을 쓰세요(예:c:\\data\\): ')\n",
    "\n",
    "# query_txt='향수'\n",
    "# includeQuery='커정'\n",
    "# decludeQuery='메종마르지엘라'\n",
    "# startTime='2020/01/01'\n",
    "# endTime='2023/06/01'\n",
    "# count=71\n",
    "# f_name='/Users/hwangseho/Desktop/SNSbigdata_sourcecode/final_res/Q2/'\n",
    "\n",
    "pagecount=math.ceil(int(count)/7)\n",
    "\n",
    "num=1\n",
    "numList=[]\n",
    "blogLinks=[]\n",
    "nickNames=[]\n",
    "wDates=[]\n",
    "contents=[]"
   ]
  },
  {
   "cell_type": "code",
   "execution_count": 16,
   "metadata": {},
   "outputs": [],
   "source": [
    "def scroll_down(driver):\n",
    "    driver.execute_script(\"window.scrollTo(0,document.documentElement.scrollHeight);\")\n",
    "    time.sleep(0.5)"
   ]
  },
  {
   "cell_type": "code",
   "execution_count": 17,
   "metadata": {},
   "outputs": [
    {
     "name": "stderr",
     "output_type": "stream",
     "text": [
      "/var/folders/g7/dh8v6rd91kz0fm7zl5kcjvq40000gn/T/ipykernel_41812/44218747.py:2: DeprecationWarning: executable_path has been deprecated, please pass in a Service object\n",
      "  driver = webdriver.Chrome(path)\n"
     ]
    }
   ],
   "source": [
    "path = '/opt/homebrew/Caskroom/chromedriver/112.0.5615.49/chromedriver'\n",
    "driver = webdriver.Chrome(path)\n",
    "driver.get(\"https://section.blog.naver.com/BlogHome.naver?directoryNo=0&currentPage=1&groupId=0\")\n",
    "time.sleep(2)"
   ]
  },
  {
   "cell_type": "code",
   "execution_count": 18,
   "metadata": {},
   "outputs": [],
   "source": [
    "element=driver.find_element(By.NAME, 'sectionBlogQuery').click()\n",
    "driver.find_element(By.XPATH, '//*[@id=\"header\"]/div[1]/div/div[2]/form/fieldset/div/input').send_keys(query_txt+' +'+includeQuery+' -'+decludeQuery)\n",
    "\n",
    "element=driver.find_element(By.XPATH, '//*[@id=\"header\"]/div[1]/div/div[2]/form/fieldset/a[1]').click()\n",
    "time.sleep(1)"
   ]
  },
  {
   "cell_type": "code",
   "execution_count": 19,
   "metadata": {},
   "outputs": [],
   "source": [
    "element=driver.find_element(By.CLASS_NAME, 'present_selected').click()\n",
    "time.sleep(0.5)\n",
    "driver.find_element(By.XPATH, '//*[@id=\"search_start_date\"]').send_keys(startTime)\n",
    "driver.find_element(By.XPATH, '//*[@id=\"search_end_date\"]').send_keys(endTime)\n",
    "element=driver.find_element(By.ID, 'periodSearch').click()\n",
    "time.sleep(1)"
   ]
  },
  {
   "cell_type": "code",
   "execution_count": 20,
   "metadata": {},
   "outputs": [],
   "source": [
    "def addData(content_list):\n",
    "    global num,numList,blogLinks,nickNames,wDates,contents\n",
    "    for i in content_list:\n",
    "        numList.append(num)\n",
    "        \n",
    "        blogLink=i.find('div','info_post').find('a','desc_inner').get('href')\n",
    "        blogLinks.append(blogLink)\n",
    "\n",
    "        nickName=i.find('div','info_post').find('em','name_author').get_text( )\n",
    "        nickNames.append(nickName)\n",
    "        \n",
    "        writeDate=i.find('div','info_post').find('span','date').get_text( )\n",
    "        wDates.append(writeDate)\n",
    "\n",
    "        content=i.find('div','info_post').find('a','text').get_text( )\n",
    "        contents.append(content)\n",
    "\n",
    "        num+=1"
   ]
  },
  {
   "cell_type": "code",
   "execution_count": 21,
   "metadata": {},
   "outputs": [],
   "source": [
    "for i in range(pagecount):\n",
    "    scroll_down(driver)\n",
    "    full_html = driver.page_source\n",
    "    soup = BeautifulSoup(full_html, 'html.parser')\n",
    "\n",
    "    content_list = soup.findAll('div',class_='list_search_post')\n",
    "    addData(content_list)\n",
    "\n",
    "    if i%10!=9:\n",
    "        element=driver.find_element(By.XPATH, '//*[@id=\"content\"]/section/div[3]/span[{}]/a'.format((i%10)+2)).click()\n",
    "    else:\n",
    "        element=driver.find_element(By.XPATH, '//*[@id=\"content\"]/section/div[3]/a').click()\n",
    "    time.sleep(1)\n",
    "\n",
    "driver.quit()"
   ]
  },
  {
   "cell_type": "code",
   "execution_count": 22,
   "metadata": {},
   "outputs": [
    {
     "name": "stderr",
     "output_type": "stream",
     "text": [
      "/var/folders/g7/dh8v6rd91kz0fm7zl5kcjvq40000gn/T/ipykernel_41812/200032770.py:9: FutureWarning: As the xlwt package is no longer maintained, the xlwt engine will be removed in a future version of pandas. This is the only engine in pandas that supports writing in the xls format. Install openpyxl and write to an xlsx file instead. You can set the option io.excel.xls.writer to 'xlwt' to silence this warning. While this option is deprecated and will also raise a warning, it can be globally set and the warning suppressed.\n",
      "  dataFrame.to_excel(f_name+'Q2.xls',index=False)\n"
     ]
    }
   ],
   "source": [
    "dataFrame=pd.DataFrame()\n",
    "dataFrame['']=numList[:count]\n",
    "dataFrame['블로그 주소']=blogLinks[:count]\n",
    "dataFrame['댓글작성자명']=nickNames[:count]\n",
    "dataFrame['댓글작성일자']=wDates[:count]\n",
    "dataFrame['댓글 내용']=contents[:count]\n",
    "\n",
    "dataFrame.to_csv(f_name+'Q2.csv',encoding=\"utf-8-sig\",index=False)\n",
    "dataFrame.to_excel(f_name+'Q2.xls',index=False)\n",
    "\n",
    "f=open(f_name+'Q2.txt','a',encoding='UTF-8')\n",
    "f.write(str(numList))\n",
    "f.write(str(blogLinks))\n",
    "f.write(str(nickNames))\n",
    "f.write(str(wDates))\n",
    "f.write(str(contents))\n",
    "f.close( )"
   ]
  }
 ],
 "metadata": {
  "kernelspec": {
   "display_name": "snsbig",
   "language": "python",
   "name": "python3"
  },
  "language_info": {
   "codemirror_mode": {
    "name": "ipython",
    "version": 3
   },
   "file_extension": ".py",
   "mimetype": "text/x-python",
   "name": "python",
   "nbconvert_exporter": "python",
   "pygments_lexer": "ipython3",
   "version": "3.8.16"
  },
  "orig_nbformat": 4
 },
 "nbformat": 4,
 "nbformat_minor": 2
}
