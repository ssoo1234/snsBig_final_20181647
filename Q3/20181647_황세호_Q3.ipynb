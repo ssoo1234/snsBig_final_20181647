{
 "cells": [
  {
   "cell_type": "code",
   "execution_count": 20,
   "metadata": {},
   "outputs": [],
   "source": [
    "from bs4 import BeautifulSoup     \n",
    "from selenium import webdriver\n",
    "from selenium.webdriver.common.keys import Keys\n",
    "from selenium.webdriver.common.by import By\n",
    "import time\n",
    "import sys\n",
    "import math"
   ]
  },
  {
   "cell_type": "code",
   "execution_count": 21,
   "metadata": {},
   "outputs": [],
   "source": [
    "def scroll_down(driver):\n",
    "    page_height=driver.execute_script(\"return document.documentElement.scrollHeight\")\n",
    "    step=int(page_height/10)\n",
    "    for i in range(0,8):\n",
    "        driver.execute_script(\"window.scrollTo(0,window.scrollY + {});\".format(step))\n",
    "        time.sleep(0.5)"
   ]
  },
  {
   "cell_type": "code",
   "execution_count": 22,
   "metadata": {},
   "outputs": [],
   "source": [
    "def addImagelinks(driver):\n",
    "    global imgFiles\n",
    "    html = driver.page_source\n",
    "    soup = BeautifulSoup(html, 'html.parser')\n",
    "    img_src = soup.find('div','verticalMasonry--RoKfF lg--v7yE8').find_all('img')\n",
    "\n",
    "    for i in img_src:\n",
    "        tmp=i['src']\n",
    "        imgFiles.append(tmp)"
   ]
  },
  {
   "cell_type": "code",
   "execution_count": 23,
   "metadata": {},
   "outputs": [],
   "source": [
    "query_txt=input('크롤링할 이미지의 키워드는 무엇입니까?: ')\n",
    "count=input('크롤링 할 건수는 몇건입니까?: ')\n",
    "f_name=input('파일로 저장할 폴더 이름을 쓰세요(예:c:\\data\\): ')\n",
    "\n",
    "# query_txt='커피'\n",
    "# count=111\n",
    "# f_name='/Users/hwangseho/Desktop/SNSbigdata_sourcecode/final_res/Q3/'\n",
    "\n",
    "pagecount=math.floor(int(count)/100)\n",
    "imgFiles=[]"
   ]
  },
  {
   "cell_type": "code",
   "execution_count": 24,
   "metadata": {},
   "outputs": [
    {
     "name": "stderr",
     "output_type": "stream",
     "text": [
      "/var/folders/g7/dh8v6rd91kz0fm7zl5kcjvq40000gn/T/ipykernel_16413/3328216917.py:2: DeprecationWarning: executable_path has been deprecated, please pass in a Service object\n",
      "  driver = webdriver.Chrome(path)\n"
     ]
    }
   ],
   "source": [
    "path = '/opt/homebrew/Caskroom/chromedriver/112.0.5615.49/chromedriver'\n",
    "driver = webdriver.Chrome(path)\n",
    "driver.get(\"https://pixabay.com/ko/\")\n",
    "time.sleep(1)"
   ]
  },
  {
   "cell_type": "code",
   "execution_count": 25,
   "metadata": {},
   "outputs": [],
   "source": [
    "element=driver.find_element(By.NAME, 'search').click()\n",
    "driver.find_element(By.NAME, 'search').send_keys(query_txt)\n",
    "time.sleep(1)\n",
    "element=driver.find_element(By.XPATH, '//*[@id=\"app\"]/div[1]/div[1]/div[3]/div[1]/div/form/button').click()\n",
    "scroll_down(driver)\n",
    "addImagelinks(driver=driver)\n",
    "time.sleep(1)\n",
    "\n",
    "for i in range(pagecount):\n",
    "    element=driver.find_element(By.XPATH, '//*[@id=\"app\"]/div[1]/div/div[2]/div[4]/div[2]/a').click()\n",
    "    time.sleep(1)\n",
    "    scroll_down(driver)\n",
    "    addImagelinks(driver=driver)\n",
    "\n",
    "driver.quit()"
   ]
  },
  {
   "cell_type": "code",
   "execution_count": 27,
   "metadata": {},
   "outputs": [],
   "source": [
    "import urllib\n",
    "import urllib.request"
   ]
  },
  {
   "cell_type": "code",
   "execution_count": 28,
   "metadata": {},
   "outputs": [
    {
     "name": "stdout",
     "output_type": "stream",
     "text": [
      "0save\n",
      "1save\n",
      "2save\n",
      "3save\n",
      "4save\n",
      "5save\n",
      "6save\n",
      "7save\n",
      "8save\n",
      "9save\n",
      "10save\n",
      "11save\n",
      "12save\n",
      "13save\n",
      "14save\n",
      "15save\n",
      "16save\n",
      "17save\n",
      "18save\n",
      "19save\n",
      "20save\n",
      "21save\n",
      "22save\n",
      "23save\n",
      "24save\n",
      "25save\n",
      "26save\n",
      "27save\n",
      "28save\n",
      "29save\n",
      "30save\n",
      "31save\n",
      "32save\n",
      "33save\n",
      "34save\n",
      "35save\n",
      "36save\n",
      "37save\n",
      "38save\n",
      "39save\n",
      "40save\n",
      "41save\n",
      "42save\n",
      "43save\n",
      "44save\n",
      "45save\n",
      "46save\n",
      "47save\n",
      "48save\n",
      "49save\n",
      "50save\n",
      "51save\n",
      "52save\n",
      "53save\n",
      "54save\n",
      "55save\n",
      "56save\n",
      "57save\n",
      "58save\n",
      "59save\n",
      "60save\n",
      "61save\n",
      "62save\n",
      "63save\n",
      "64save\n",
      "65save\n",
      "66save\n",
      "67save\n",
      "68save\n",
      "69save\n",
      "70save\n",
      "71save\n",
      "72save\n",
      "73save\n",
      "74save\n",
      "75save\n",
      "76save\n",
      "77save\n",
      "78save\n",
      "79save\n",
      "80save\n",
      "81save\n",
      "82save\n",
      "83save\n",
      "84save\n",
      "85save\n",
      "86save\n",
      "87save\n",
      "88save\n",
      "89save\n",
      "90save\n",
      "91save\n",
      "92save\n",
      "93save\n",
      "94save\n",
      "95save\n",
      "96save\n",
      "97save\n",
      "98save\n",
      "99save\n",
      "100save\n",
      "101save\n",
      "102save\n",
      "103save\n",
      "104save\n",
      "105save\n",
      "106save\n",
      "107save\n",
      "108save\n",
      "109save\n",
      "110save\n"
     ]
    }
   ],
   "source": [
    "for n,i in enumerate(imgFiles):\n",
    "    if n==count:\n",
    "        break\n",
    "    try:\n",
    "        headers={'User-Agent':'Mozilla/5.0 (Macintosh; Intel Mac OS X 10_15_7) AppleWebKit/537.36 (KHTML, like Gecko) Chrome/114.0.0.0 Safari/537.36'}\n",
    "        req=urllib.request.Request(i,headers=headers)\n",
    "        mem=urllib.request.urlopen(req).read()\n",
    "        \n",
    "        with open(f_name+str(n+1)+'.jpg',mode=\"wb\") as f:\n",
    "            f.write(mem)\n",
    "    except:\n",
    "        raise Exception(\"Download Failed : No Search File Link\")    #TIMESLEEP 올리기\n",
    "\n",
    "    time.sleep(0.5)\n",
    "    print(\"{}save\".format(n+1))"
   ]
  }
 ],
 "metadata": {
  "kernelspec": {
   "display_name": "snsbig",
   "language": "python",
   "name": "python3"
  },
  "language_info": {
   "codemirror_mode": {
    "name": "ipython",
    "version": 3
   },
   "file_extension": ".py",
   "mimetype": "text/x-python",
   "name": "python",
   "nbconvert_exporter": "python",
   "pygments_lexer": "ipython3",
   "version": "3.8.16"
  },
  "orig_nbformat": 4
 },
 "nbformat": 4,
 "nbformat_minor": 2
}
