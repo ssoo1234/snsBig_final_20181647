{
 "cells": [
  {
   "cell_type": "code",
   "execution_count": 4,
   "metadata": {},
   "outputs": [],
   "source": [
    "from bs4 import BeautifulSoup     \n",
    "from selenium import webdriver\n",
    "from selenium.webdriver.common.keys import Keys\n",
    "from selenium.webdriver.common.by import By\n",
    "import time\n",
    "import sys\n",
    "import pandas as pd\n",
    "import xlwt\n",
    "import math"
   ]
  },
  {
   "cell_type": "code",
   "execution_count": 5,
   "metadata": {},
   "outputs": [],
   "source": [
    "def scroll_down(driver):\n",
    "    driver.execute_script(\"window.scrollTo(0,document.documentElement.scrollHeight);\")\n",
    "    time.sleep(1)"
   ]
  },
  {
   "cell_type": "code",
   "execution_count": 6,
   "metadata": {},
   "outputs": [],
   "source": [
    "query_txt=input('유튜브에서 검색할 주제 키워드를 입력하세요: ')\n",
    "videonum=input('위 주제로 댓글을 크롤링할 유튜브 영상은 몇건입니까?: ')\n",
    "count=int(input('각 동영상에서 추출할 댓글은 몇건 입니까?: '))\n",
    "f_name = input('파일로 저장할 폴더 이름을 쓰세요(예:c:\\data\\): ')\n",
    "\n",
    "# query_txt='yoasobi'\n",
    "# videonum=3\n",
    "# count=30\n",
    "# f_name = '/Users/hwangseho/Desktop/SNSbigdata_sourcecode/final_res/Q5/'\n",
    "\n",
    "pagedown=math.floor(count/20)"
   ]
  },
  {
   "cell_type": "code",
   "execution_count": 7,
   "metadata": {},
   "outputs": [
    {
     "name": "stderr",
     "output_type": "stream",
     "text": [
      "/var/folders/g7/dh8v6rd91kz0fm7zl5kcjvq40000gn/T/ipykernel_41447/2778302865.py:2: DeprecationWarning: executable_path has been deprecated, please pass in a Service object\n",
      "  driver = webdriver.Chrome(path)\n"
     ]
    }
   ],
   "source": [
    "path = '/opt/homebrew/Caskroom/chromedriver/112.0.5615.49/chromedriver'\n",
    "driver = webdriver.Chrome(path)\n",
    "driver.get(\"https://youtube.com/\")\n",
    "time.sleep(1)"
   ]
  },
  {
   "cell_type": "code",
   "execution_count": 8,
   "metadata": {},
   "outputs": [],
   "source": [
    "element=driver.find_element(By.NAME, 'search_query').click()\n",
    "driver.find_element(By.NAME, 'search_query').send_keys(query_txt)\n",
    "time.sleep(1)\n",
    "\n",
    "element=driver.find_element(By.XPATH, '//*[@id=\"search-icon-legacy\"]').click()\n",
    "time.sleep(1)"
   ]
  },
  {
   "cell_type": "code",
   "execution_count": 9,
   "metadata": {},
   "outputs": [],
   "source": [
    "element=driver.find_element(By.XPATH, '//*[@id=\"container\"]/ytd-toggle-button-renderer/yt-button-shape/button/yt-touch-feedback-shape/div/div[2]').click()\n",
    "time.sleep(1)\n",
    "element=driver.find_element(By.XPATH, '//*[@id=\"label\"]/yt-formatted-string').click()\n",
    "time.sleep(1)\n",
    "element=driver.find_element(By.XPATH, '//*[@id=\"container\"]/ytd-toggle-button-renderer/yt-button-shape/button/yt-touch-feedback-shape/div/div[2]').click()\n",
    "time.sleep(1)\n",
    "element=driver.find_element(By.XPATH, '//*[@id=\"dismiss-x\"]').click()\n",
    "time.sleep(1)"
   ]
  },
  {
   "cell_type": "code",
   "execution_count": 10,
   "metadata": {},
   "outputs": [],
   "source": [
    "html = driver.page_source\n",
    "soup = BeautifulSoup(html, 'html.parser')\n",
    "content_total = soup.find_all(class_ = 'yt-simple-endpoint style-scope ytd-video-renderer')"
   ]
  },
  {
   "cell_type": "code",
   "execution_count": 11,
   "metadata": {},
   "outputs": [],
   "source": [
    "videoLinks=[]\n",
    "\n",
    "for i in content_total:\n",
    "    videoLinks.append(\"https://www.youtube.com\"+i['href'])\n"
   ]
  },
  {
   "cell_type": "code",
   "execution_count": 12,
   "metadata": {},
   "outputs": [],
   "source": [
    "def makelists(content_list,link):\n",
    "    global count\n",
    "    global num,numList,vidLinks,nickNames,wDates,contents\n",
    "    for i in range(count):\n",
    "        numList.append(num)\n",
    "        \n",
    "        vidLinks.append(link)\n",
    "\n",
    "        nickName=content_list[i].find('span','style-scope ytd-comment-renderer style-scope ytd-comment-renderer')\n",
    "        if nickName==None:\n",
    "            nickName=content_list[i].find('span','channel-owner style-scope ytd-comment-renderer style-scope ytd-comment-renderer')\n",
    "        nickNames.append(nickName.get_text( ))\n",
    "        \n",
    "        writeDate=content_list[i].find('a','yt-simple-endpoint style-scope yt-formatted-string')\n",
    "        wDates.append(writeDate.get_text( ))\n",
    "\n",
    "        content=content_list[i].find('yt-formatted-string','style-scope ytd-comment-renderer')\n",
    "        contents.append(content.get_text( ))\n",
    "\n",
    "        num+=1"
   ]
  },
  {
   "cell_type": "code",
   "execution_count": null,
   "metadata": {},
   "outputs": [],
   "source": [
    "num=1\n",
    "numList=[]\n",
    "vidLinks=[]\n",
    "nickNames=[]\n",
    "wDates=[]\n",
    "contents=[]\n",
    "\n",
    "for i in range(int(videonum)):\n",
    "    driver.get(videoLinks[i])\n",
    "    time.sleep(3)\n",
    "    for i in range(pagedown):\n",
    "        scroll_down(driver)\n",
    "\n",
    "    html = driver.page_source\n",
    "    soup = BeautifulSoup(html, 'html.parser')\n",
    "    content_list = soup.find_all('ytd-comment-thread-renderer','style-scope ytd-item-section-renderer')\n",
    "    \n",
    "    makelists(content_list,videoLinks[i])\n",
    "\n",
    "driver.quit()"
   ]
  },
  {
   "cell_type": "code",
   "execution_count": 14,
   "metadata": {},
   "outputs": [
    {
     "name": "stderr",
     "output_type": "stream",
     "text": [
      "/var/folders/g7/dh8v6rd91kz0fm7zl5kcjvq40000gn/T/ipykernel_41447/4144071268.py:9: FutureWarning: As the xlwt package is no longer maintained, the xlwt engine will be removed in a future version of pandas. This is the only engine in pandas that supports writing in the xls format. Install openpyxl and write to an xlsx file instead. You can set the option io.excel.xls.writer to 'xlwt' to silence this warning. While this option is deprecated and will also raise a warning, it can be globally set and the warning suppressed.\n",
      "  dataFrame.to_excel(f_name+'Q5.xls',index=False)\n"
     ]
    }
   ],
   "source": [
    "dataFrame=pd.DataFrame()\n",
    "dataFrame['']=numList\n",
    "dataFrame['URL 주소']=vidLinks\n",
    "dataFrame['댓글작성자명']=nickNames\n",
    "dataFrame['댓글작성일자']=wDates\n",
    "dataFrame['댓글 내용']=contents\n",
    "\n",
    "dataFrame.to_csv(f_name+'Q5.csv',encoding=\"utf-8-sig\",index=False)\n",
    "dataFrame.to_excel(f_name+'Q5.xls',index=False)\n",
    "\n",
    "f=open(f_name+'Q5.txt','a',encoding='UTF-8')\n",
    "f.write(str(numList))\n",
    "f.write(str(vidLinks))\n",
    "f.write(str(nickNames))\n",
    "f.write(str(wDates))\n",
    "f.write(str(contents))\n",
    "f.close( )"
   ]
  }
 ],
 "metadata": {
  "kernelspec": {
   "display_name": "snsbig",
   "language": "python",
   "name": "python3"
  },
  "language_info": {
   "codemirror_mode": {
    "name": "ipython",
    "version": 3
   },
   "file_extension": ".py",
   "mimetype": "text/x-python",
   "name": "python",
   "nbconvert_exporter": "python",
   "pygments_lexer": "ipython3",
   "version": "3.8.16"
  },
  "orig_nbformat": 4
 },
 "nbformat": 4,
 "nbformat_minor": 2
}
