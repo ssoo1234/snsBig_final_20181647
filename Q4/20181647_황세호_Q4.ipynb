{
 "cells": [
  {
   "cell_type": "code",
   "execution_count": 57,
   "metadata": {},
   "outputs": [],
   "source": [
    "from bs4 import BeautifulSoup     \n",
    "from selenium import webdriver\n",
    "from selenium.webdriver.common.keys import Keys\n",
    "from selenium.webdriver.common.by import By\n",
    "import time\n",
    "import sys\n",
    "import requests\n",
    "import re"
   ]
  },
  {
   "cell_type": "code",
   "execution_count": 58,
   "metadata": {},
   "outputs": [],
   "source": [
    "query_txt=input('크롤링할 키워드는 무엇입니까?: ')\n",
    "count=int(input('크롤링 할 건수는 몇건입니까?: '))\n",
    "f_name = input('파일로 저장할 폴더 이름을 쓰세요(예:c:\\data\\): ')\n",
    "\n",
    "# query_txt='적대적 생성 신경망'\n",
    "# count=7\n",
    "# f_name = '/Users/hwangseho/Desktop/SNSbigdata_sourcecode/final_res/Q4/'\n",
    "\n",
    "pdfList=[]\n",
    "pdfTitle=[]"
   ]
  },
  {
   "cell_type": "code",
   "execution_count": 59,
   "metadata": {},
   "outputs": [
    {
     "name": "stderr",
     "output_type": "stream",
     "text": [
      "/var/folders/g7/dh8v6rd91kz0fm7zl5kcjvq40000gn/T/ipykernel_26300/2098647066.py:2: DeprecationWarning: executable_path has been deprecated, please pass in a Service object\n",
      "  driver = webdriver.Chrome(path)\n"
     ]
    }
   ],
   "source": [
    "path = '/opt/homebrew/Caskroom/chromedriver/112.0.5615.49/chromedriver'\n",
    "driver = webdriver.Chrome(path)\n",
    "driver.get(\"https://www.google.com/?authuser=0\")\n",
    "time.sleep(1)"
   ]
  },
  {
   "cell_type": "code",
   "execution_count": 60,
   "metadata": {},
   "outputs": [],
   "source": [
    "element=driver.find_element(By.NAME, 'q').click()\n",
    "driver.find_element(By.NAME, 'q').send_keys('filetype:pdf '+query_txt)\n",
    "time.sleep(1)\n",
    "\n",
    "element=driver.find_element(By.XPATH, '/html/body/div[1]/div[3]/form/div[1]/div[1]/div[4]/center/input[1]').click()\n",
    "time.sleep(1)"
   ]
  },
  {
   "cell_type": "code",
   "execution_count": 61,
   "metadata": {},
   "outputs": [],
   "source": [
    "html = driver.page_source\n",
    "soup = BeautifulSoup(html, 'html.parser')\n",
    "content_list = soup.find_all(class_='MjjYud')\n",
    "\n",
    "for i in range(len(content_list)):\n",
    "    const_str=str(content_list[i])\n",
    "    pattern=r'(?i)\\bhttps?://\\S+\\.pdf\\b'\n",
    "\n",
    "    if(re.search(pattern, const_str) == None):\n",
    "        continue\n",
    "    else:\n",
    "        href_value = re.search(pattern, const_str).group().strip('\"')\n",
    "        pdfList.append(href_value)\n",
    "        pdfTitle.append(content_list[i].find(class_='LC20lb MBeuO DKV0Md').get_text())"
   ]
  },
  {
   "cell_type": "code",
   "execution_count": 65,
   "metadata": {},
   "outputs": [
    {
     "name": "stdout",
     "output_type": "stream",
     "text": [
      "download failed. link(http://www.kibme.org/resources/journal/20180808162535545.pdf)\n"
     ]
    }
   ],
   "source": [
    "for i in range(count):\n",
    "    url = str(pdfList[i])\n",
    "    \n",
    "    try:\n",
    "        response=requests.get(url)\n",
    "        \n",
    "        with open(f_name+pdfTitle[i]+'.pdf', \"wb\") as file:\n",
    "            file.write(response.content)\n",
    "    except:\n",
    "        print(\"download failed. link:{}\".format(url))"
   ]
  }
 ],
 "metadata": {
  "kernelspec": {
   "display_name": "snsbig",
   "language": "python",
   "name": "python3"
  },
  "language_info": {
   "codemirror_mode": {
    "name": "ipython",
    "version": 3
   },
   "file_extension": ".py",
   "mimetype": "text/x-python",
   "name": "python",
   "nbconvert_exporter": "python",
   "pygments_lexer": "ipython3",
   "version": "3.8.16"
  },
  "orig_nbformat": 4
 },
 "nbformat": 4,
 "nbformat_minor": 2
}
