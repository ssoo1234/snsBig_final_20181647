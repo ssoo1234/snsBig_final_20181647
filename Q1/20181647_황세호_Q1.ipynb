{
 "cells": [
  {
   "cell_type": "code",
   "execution_count": 34,
   "metadata": {},
   "outputs": [],
   "source": [
    "from bs4 import BeautifulSoup     \n",
    "from selenium import webdriver\n",
    "from selenium.webdriver.common.keys import Keys\n",
    "from selenium.webdriver.common.by import By\n",
    "from selenium.webdriver.common.action_chains import ActionChains\n",
    "import time\n",
    "import sys\n",
    "import re\n",
    "import os\n",
    "import numpy as np"
   ]
  },
  {
   "cell_type": "code",
   "execution_count": 27,
   "metadata": {},
   "outputs": [],
   "source": [
    "query_txt=input('공고명으로 검색할 키워드는 무엇입니까?: ')\n",
    "startTime=input('조회 시작일자 입력(예:2019/01/01): ')\n",
    "endTime=input('조회 종료일자 입력(예:2019/03/31): ')\n",
    "f_name = input('파일로 저장할 폴더 이름을 쓰세요(예:c:\\data\\): ')\n",
    "\n",
    "# query_txt='전기'\n",
    "# startTime='2019/01/01'\n",
    "# endTime='2019/03/31'\n",
    "# f_name = '/Users/hwangseho/Desktop/SNSbigdata_sourcecode/final_res/Q1/'"
   ]
  },
  {
   "cell_type": "code",
   "execution_count": 28,
   "metadata": {},
   "outputs": [
    {
     "name": "stderr",
     "output_type": "stream",
     "text": [
      "/var/folders/g7/dh8v6rd91kz0fm7zl5kcjvq40000gn/T/ipykernel_42581/586772514.py:2: DeprecationWarning: executable_path has been deprecated, please pass in a Service object\n",
      "  driver = webdriver.Chrome(path)\n"
     ]
    }
   ],
   "source": [
    "path = '/opt/homebrew/Caskroom/chromedriver/112.0.5615.49/chromedriver'\n",
    "driver = webdriver.Chrome(path)\n",
    "driver.get(\"https://www.g2b.go.kr/index.jsp\")\n",
    "time.sleep(2)"
   ]
  },
  {
   "cell_type": "code",
   "execution_count": 29,
   "metadata": {},
   "outputs": [],
   "source": [
    "element=driver.find_element(By.ID, 'bidNm').click()\n",
    "driver.find_element(By.XPATH, '//*[@id=\"bidNm\"]').send_keys(query_txt)\n",
    "\n",
    "element=driver.find_element(By.ID, 'fromBidDt')\n",
    "ActionChains(driver).double_click(driver.find_element(By.ID, 'fromBidDt')).click().perform()\n",
    "driver.find_element(By.XPATH, '//*[@id=\"fromBidDt\"]').send_keys(startTime)\n",
    "\n",
    "element=driver.find_element(By.ID, 'toBidDt')\n",
    "ActionChains(driver).double_click(driver.find_element(By.ID, 'toBidDt')).click().perform()\n",
    "driver.find_element(By.XPATH, '//*[@id=\"toBidDt\"]').send_keys(endTime)\n",
    "\n",
    "element=driver.find_element(By.CLASS_NAME, 'btn_dark').click()\n",
    "time.sleep(1)"
   ]
  },
  {
   "cell_type": "code",
   "execution_count": 31,
   "metadata": {},
   "outputs": [],
   "source": [
    "full_html = driver.page_source\n",
    "soup = BeautifulSoup(full_html, 'html.parser')\n",
    "# content_list = soup.find('table',attrs={'class':'table_list_tbidTbl table_list'})\n",
    "content_list = soup.find_all('script')\n",
    "content_str = str(content_list)"
   ]
  },
  {
   "cell_type": "code",
   "execution_count": 32,
   "metadata": {},
   "outputs": [],
   "source": [
    "pattern  = r'https(.*?)\"'\n",
    "href_value = re.search(pattern, content_str).group().strip('\"')\n",
    "driver.get(href_value)\n",
    "time.sleep(1)"
   ]
  },
  {
   "cell_type": "code",
   "execution_count": 35,
   "metadata": {},
   "outputs": [],
   "source": [
    "cnt=1\n",
    "while(1):\n",
    "    html=driver.page_source\n",
    "    soup=BeautifulSoup(html,'html.parser')\n",
    "\n",
    "    content=soup.find('table')\n",
    "    content_list=content.find('tbody').find_all('td')\n",
    "\n",
    "    if(content_list[0].get_text()=='검색된데이터가없습니다.'):\n",
    "        break\n",
    "    if(cnt==1):\n",
    "        content_tr=content.find('thead').find_all('th')\n",
    "        title=[i.get_text()foriincontent_tr]\n",
    "        con_list=np.array(title)\n",
    "    con=[]\n",
    "    con.append(content_list[0].get_text())\n",
    "\n",
    "    for i inrange(1,len(content_list)):\n",
    "        if(i%10)==0:\n",
    "            con_list=np.vstack((con_list,con))\n",
    "            con=[]\n",
    "        con.append(content_list[i].get_text())\n",
    "\n",
    "    con_list=np.vstack((con_list,con))\n",
    "    driver.execute_script('to_more(1)')\n",
    "    cnt+=1\n",
    "\n",
    "driver.quit()"
   ]
  },
  {
   "cell_type": "code",
   "execution_count": 36,
   "metadata": {},
   "outputs": [],
   "source": [
    "os.chdir(f_name)\n",
    "np.savetxt('Q1.csv',con_list,delimiter=\",\", fmt='%s')"
   ]
  }
 ],
 "metadata": {
  "kernelspec": {
   "display_name": "snsbig",
   "language": "python",
   "name": "python3"
  },
  "language_info": {
   "codemirror_mode": {
    "name": "ipython",
    "version": 3
   },
   "file_extension": ".py",
   "mimetype": "text/x-python",
   "name": "python",
   "nbconvert_exporter": "python",
   "pygments_lexer": "ipython3",
   "version": "3.8.16"
  },
  "orig_nbformat": 4
 },
 "nbformat": 4,
 "nbformat_minor": 2
}
